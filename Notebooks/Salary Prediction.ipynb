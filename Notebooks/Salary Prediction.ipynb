{
 "cells": [
  {
   "cell_type": "markdown",
   "id": "49c79741",
   "metadata": {},
   "source": [
    "### This Model predicts salary of developers "
   ]
  },
  {
   "cell_type": "code",
   "execution_count": 2,
   "id": "a267952f",
   "metadata": {},
   "outputs": [],
   "source": [
    "import pandas as pd \n",
    "import numpy as np \n",
    "import matplotlib.pyplot as plt \n",
    "import seaborn as sns"
   ]
  },
  {
   "cell_type": "code",
   "execution_count": 3,
   "id": "2c31e83b",
   "metadata": {},
   "outputs": [
    {
     "data": {
      "text/html": [
       "<div>\n",
       "<style scoped>\n",
       "    .dataframe tbody tr th:only-of-type {\n",
       "        vertical-align: middle;\n",
       "    }\n",
       "\n",
       "    .dataframe tbody tr th {\n",
       "        vertical-align: top;\n",
       "    }\n",
       "\n",
       "    .dataframe thead th {\n",
       "        text-align: right;\n",
       "    }\n",
       "</style>\n",
       "<table border=\"1\" class=\"dataframe\">\n",
       "  <thead>\n",
       "    <tr style=\"text-align: right;\">\n",
       "      <th></th>\n",
       "      <th>ResponseId</th>\n",
       "      <th>MainBranch</th>\n",
       "      <th>Age</th>\n",
       "      <th>Employment</th>\n",
       "      <th>RemoteWork</th>\n",
       "      <th>Check</th>\n",
       "      <th>CodingActivities</th>\n",
       "      <th>EdLevel</th>\n",
       "      <th>LearnCode</th>\n",
       "      <th>LearnCodeOnline</th>\n",
       "      <th>...</th>\n",
       "      <th>JobSatPoints_6</th>\n",
       "      <th>JobSatPoints_7</th>\n",
       "      <th>JobSatPoints_8</th>\n",
       "      <th>JobSatPoints_9</th>\n",
       "      <th>JobSatPoints_10</th>\n",
       "      <th>JobSatPoints_11</th>\n",
       "      <th>SurveyLength</th>\n",
       "      <th>SurveyEase</th>\n",
       "      <th>ConvertedCompYearly</th>\n",
       "      <th>JobSat</th>\n",
       "    </tr>\n",
       "  </thead>\n",
       "  <tbody>\n",
       "    <tr>\n",
       "      <th>0</th>\n",
       "      <td>1</td>\n",
       "      <td>I am a developer by profession</td>\n",
       "      <td>Under 18 years old</td>\n",
       "      <td>Employed, full-time</td>\n",
       "      <td>Remote</td>\n",
       "      <td>Apples</td>\n",
       "      <td>Hobby</td>\n",
       "      <td>Primary/elementary school</td>\n",
       "      <td>Books / Physical media</td>\n",
       "      <td>NaN</td>\n",
       "      <td>...</td>\n",
       "      <td>NaN</td>\n",
       "      <td>NaN</td>\n",
       "      <td>NaN</td>\n",
       "      <td>NaN</td>\n",
       "      <td>NaN</td>\n",
       "      <td>NaN</td>\n",
       "      <td>NaN</td>\n",
       "      <td>NaN</td>\n",
       "      <td>NaN</td>\n",
       "      <td>NaN</td>\n",
       "    </tr>\n",
       "    <tr>\n",
       "      <th>1</th>\n",
       "      <td>2</td>\n",
       "      <td>I am a developer by profession</td>\n",
       "      <td>35-44 years old</td>\n",
       "      <td>Employed, full-time</td>\n",
       "      <td>Remote</td>\n",
       "      <td>Apples</td>\n",
       "      <td>Hobby;Contribute to open-source projects;Other...</td>\n",
       "      <td>Bachelor’s degree (B.A., B.S., B.Eng., etc.)</td>\n",
       "      <td>Books / Physical media;Colleague;On the job tr...</td>\n",
       "      <td>Technical documentation;Blogs;Books;Written Tu...</td>\n",
       "      <td>...</td>\n",
       "      <td>0.0</td>\n",
       "      <td>0.0</td>\n",
       "      <td>0.0</td>\n",
       "      <td>0.0</td>\n",
       "      <td>0.0</td>\n",
       "      <td>0.0</td>\n",
       "      <td>NaN</td>\n",
       "      <td>NaN</td>\n",
       "      <td>NaN</td>\n",
       "      <td>NaN</td>\n",
       "    </tr>\n",
       "    <tr>\n",
       "      <th>2</th>\n",
       "      <td>3</td>\n",
       "      <td>I am a developer by profession</td>\n",
       "      <td>45-54 years old</td>\n",
       "      <td>Employed, full-time</td>\n",
       "      <td>Remote</td>\n",
       "      <td>Apples</td>\n",
       "      <td>Hobby;Contribute to open-source projects;Other...</td>\n",
       "      <td>Master’s degree (M.A., M.S., M.Eng., MBA, etc.)</td>\n",
       "      <td>Books / Physical media;Colleague;On the job tr...</td>\n",
       "      <td>Technical documentation;Blogs;Books;Written Tu...</td>\n",
       "      <td>...</td>\n",
       "      <td>NaN</td>\n",
       "      <td>NaN</td>\n",
       "      <td>NaN</td>\n",
       "      <td>NaN</td>\n",
       "      <td>NaN</td>\n",
       "      <td>NaN</td>\n",
       "      <td>Appropriate in length</td>\n",
       "      <td>Easy</td>\n",
       "      <td>NaN</td>\n",
       "      <td>NaN</td>\n",
       "    </tr>\n",
       "    <tr>\n",
       "      <th>3</th>\n",
       "      <td>4</td>\n",
       "      <td>I am learning to code</td>\n",
       "      <td>18-24 years old</td>\n",
       "      <td>Student, full-time</td>\n",
       "      <td>NaN</td>\n",
       "      <td>Apples</td>\n",
       "      <td>NaN</td>\n",
       "      <td>Some college/university study without earning ...</td>\n",
       "      <td>Other online resources (e.g., videos, blogs, f...</td>\n",
       "      <td>Stack Overflow;How-to videos;Interactive tutorial</td>\n",
       "      <td>...</td>\n",
       "      <td>NaN</td>\n",
       "      <td>NaN</td>\n",
       "      <td>NaN</td>\n",
       "      <td>NaN</td>\n",
       "      <td>NaN</td>\n",
       "      <td>NaN</td>\n",
       "      <td>Too long</td>\n",
       "      <td>Easy</td>\n",
       "      <td>NaN</td>\n",
       "      <td>NaN</td>\n",
       "    </tr>\n",
       "    <tr>\n",
       "      <th>4</th>\n",
       "      <td>5</td>\n",
       "      <td>I am a developer by profession</td>\n",
       "      <td>18-24 years old</td>\n",
       "      <td>Student, full-time</td>\n",
       "      <td>NaN</td>\n",
       "      <td>Apples</td>\n",
       "      <td>NaN</td>\n",
       "      <td>Secondary school (e.g. American high school, G...</td>\n",
       "      <td>Other online resources (e.g., videos, blogs, f...</td>\n",
       "      <td>Technical documentation;Blogs;Written Tutorial...</td>\n",
       "      <td>...</td>\n",
       "      <td>NaN</td>\n",
       "      <td>NaN</td>\n",
       "      <td>NaN</td>\n",
       "      <td>NaN</td>\n",
       "      <td>NaN</td>\n",
       "      <td>NaN</td>\n",
       "      <td>Too short</td>\n",
       "      <td>Easy</td>\n",
       "      <td>NaN</td>\n",
       "      <td>NaN</td>\n",
       "    </tr>\n",
       "  </tbody>\n",
       "</table>\n",
       "<p>5 rows × 114 columns</p>\n",
       "</div>"
      ],
      "text/plain": [
       "   ResponseId                      MainBranch                 Age  \\\n",
       "0           1  I am a developer by profession  Under 18 years old   \n",
       "1           2  I am a developer by profession     35-44 years old   \n",
       "2           3  I am a developer by profession     45-54 years old   \n",
       "3           4           I am learning to code     18-24 years old   \n",
       "4           5  I am a developer by profession     18-24 years old   \n",
       "\n",
       "            Employment RemoteWork   Check  \\\n",
       "0  Employed, full-time     Remote  Apples   \n",
       "1  Employed, full-time     Remote  Apples   \n",
       "2  Employed, full-time     Remote  Apples   \n",
       "3   Student, full-time        NaN  Apples   \n",
       "4   Student, full-time        NaN  Apples   \n",
       "\n",
       "                                    CodingActivities  \\\n",
       "0                                              Hobby   \n",
       "1  Hobby;Contribute to open-source projects;Other...   \n",
       "2  Hobby;Contribute to open-source projects;Other...   \n",
       "3                                                NaN   \n",
       "4                                                NaN   \n",
       "\n",
       "                                             EdLevel  \\\n",
       "0                          Primary/elementary school   \n",
       "1       Bachelor’s degree (B.A., B.S., B.Eng., etc.)   \n",
       "2    Master’s degree (M.A., M.S., M.Eng., MBA, etc.)   \n",
       "3  Some college/university study without earning ...   \n",
       "4  Secondary school (e.g. American high school, G...   \n",
       "\n",
       "                                           LearnCode  \\\n",
       "0                             Books / Physical media   \n",
       "1  Books / Physical media;Colleague;On the job tr...   \n",
       "2  Books / Physical media;Colleague;On the job tr...   \n",
       "3  Other online resources (e.g., videos, blogs, f...   \n",
       "4  Other online resources (e.g., videos, blogs, f...   \n",
       "\n",
       "                                     LearnCodeOnline  ... JobSatPoints_6  \\\n",
       "0                                                NaN  ...            NaN   \n",
       "1  Technical documentation;Blogs;Books;Written Tu...  ...            0.0   \n",
       "2  Technical documentation;Blogs;Books;Written Tu...  ...            NaN   \n",
       "3  Stack Overflow;How-to videos;Interactive tutorial  ...            NaN   \n",
       "4  Technical documentation;Blogs;Written Tutorial...  ...            NaN   \n",
       "\n",
       "  JobSatPoints_7 JobSatPoints_8 JobSatPoints_9 JobSatPoints_10  \\\n",
       "0            NaN            NaN            NaN             NaN   \n",
       "1            0.0            0.0            0.0             0.0   \n",
       "2            NaN            NaN            NaN             NaN   \n",
       "3            NaN            NaN            NaN             NaN   \n",
       "4            NaN            NaN            NaN             NaN   \n",
       "\n",
       "  JobSatPoints_11           SurveyLength SurveyEase ConvertedCompYearly JobSat  \n",
       "0             NaN                    NaN        NaN                 NaN    NaN  \n",
       "1             0.0                    NaN        NaN                 NaN    NaN  \n",
       "2             NaN  Appropriate in length       Easy                 NaN    NaN  \n",
       "3             NaN               Too long       Easy                 NaN    NaN  \n",
       "4             NaN              Too short       Easy                 NaN    NaN  \n",
       "\n",
       "[5 rows x 114 columns]"
      ]
     },
     "execution_count": 3,
     "metadata": {},
     "output_type": "execute_result"
    }
   ],
   "source": [
    "df = pd.read_csv(\"survey_results_public.csv\")\n",
    "df.head()"
   ]
  },
  {
   "cell_type": "code",
   "execution_count": 4,
   "id": "caed9d79",
   "metadata": {},
   "outputs": [
    {
     "name": "stdout",
     "output_type": "stream",
     "text": [
      "<class 'pandas.core.frame.DataFrame'>\n",
      "RangeIndex: 65437 entries, 0 to 65436\n",
      "Columns: 114 entries, ResponseId to JobSat\n",
      "dtypes: float64(13), int64(1), object(100)\n",
      "memory usage: 56.9+ MB\n"
     ]
    }
   ],
   "source": [
    "df.info()"
   ]
  },
  {
   "cell_type": "code",
   "execution_count": 5,
   "id": "640c7d56",
   "metadata": {},
   "outputs": [
    {
     "data": {
      "text/plain": [
       "Index(['ResponseId', 'MainBranch', 'Age', 'Employment', 'RemoteWork', 'Check',\n",
       "       'CodingActivities', 'EdLevel', 'LearnCode', 'LearnCodeOnline',\n",
       "       ...\n",
       "       'JobSatPoints_6', 'JobSatPoints_7', 'JobSatPoints_8', 'JobSatPoints_9',\n",
       "       'JobSatPoints_10', 'JobSatPoints_11', 'SurveyLength', 'SurveyEase',\n",
       "       'ConvertedCompYearly', 'JobSat'],\n",
       "      dtype='object', length=114)"
      ]
     },
     "execution_count": 5,
     "metadata": {},
     "output_type": "execute_result"
    }
   ],
   "source": [
    "df.columns"
   ]
  },
  {
   "cell_type": "code",
   "execution_count": 6,
   "id": "ecb6d93c",
   "metadata": {},
   "outputs": [],
   "source": [
    "df = df[['ConvertedCompYearly','Country','EdLevel','YearsCodePro','Employment','RemoteWork','OrgSize','DevType','LanguageHaveWorkedWith']]"
   ]
  },
  {
   "cell_type": "code",
   "execution_count": 7,
   "id": "5709a61e",
   "metadata": {},
   "outputs": [],
   "source": [
    "df = df[df['ConvertedCompYearly'].notnull()]"
   ]
  },
  {
   "cell_type": "code",
   "execution_count": 8,
   "id": "4b0ca3f3",
   "metadata": {},
   "outputs": [
    {
     "name": "stdout",
     "output_type": "stream",
     "text": [
      "<class 'pandas.core.frame.DataFrame'>\n",
      "Index: 23435 entries, 72 to 41187\n",
      "Data columns (total 9 columns):\n",
      " #   Column                  Non-Null Count  Dtype  \n",
      "---  ------                  --------------  -----  \n",
      " 0   ConvertedCompYearly     23435 non-null  float64\n",
      " 1   Country                 23435 non-null  object \n",
      " 2   EdLevel                 23435 non-null  object \n",
      " 3   YearsCodePro            23345 non-null  object \n",
      " 4   Employment              23435 non-null  object \n",
      " 5   RemoteWork              23427 non-null  object \n",
      " 6   OrgSize                 23410 non-null  object \n",
      " 7   DevType                 23403 non-null  object \n",
      " 8   LanguageHaveWorkedWith  23352 non-null  object \n",
      "dtypes: float64(1), object(8)\n",
      "memory usage: 1.8+ MB\n"
     ]
    }
   ],
   "source": [
    "df.info()"
   ]
  },
  {
   "cell_type": "code",
   "execution_count": 9,
   "id": "42b21535",
   "metadata": {},
   "outputs": [],
   "source": [
    "df.loc[df['YearsCodePro'] == 'Less than 1 year', 'YearsCodePro'] = 0.5\n",
    "df.loc[df['YearsCodePro'] == 'More than 50 years', 'YearsCodePro'] = 51"
   ]
  },
  {
   "cell_type": "code",
   "execution_count": 10,
   "id": "4872fc2d",
   "metadata": {},
   "outputs": [],
   "source": [
    "df['YearsCodePro'] = df['YearsCodePro'].replace({\n",
    "    'Less than 1 year': 0.5,\n",
    "    'More than 50 years': 51\n",
    "})\n",
    "df['YearsCodePro'] = pd.to_numeric(df['YearsCodePro'], errors='coerce')"
   ]
  },
  {
   "cell_type": "code",
   "execution_count": 11,
   "id": "a7bc8b2d",
   "metadata": {},
   "outputs": [
    {
     "name": "stdout",
     "output_type": "stream",
     "text": [
      "float64\n"
     ]
    }
   ],
   "source": [
    "print(df['YearsCodePro'].dtype)"
   ]
  },
  {
   "cell_type": "code",
   "execution_count": 12,
   "id": "bcc66cba",
   "metadata": {},
   "outputs": [
    {
     "name": "stdout",
     "output_type": "stream",
     "text": [
      "<class 'pandas.core.frame.DataFrame'>\n",
      "Index: 23435 entries, 72 to 41187\n",
      "Data columns (total 9 columns):\n",
      " #   Column                  Non-Null Count  Dtype  \n",
      "---  ------                  --------------  -----  \n",
      " 0   ConvertedCompYearly     23435 non-null  float64\n",
      " 1   Country                 23435 non-null  object \n",
      " 2   EdLevel                 23435 non-null  object \n",
      " 3   YearsCodePro            23345 non-null  float64\n",
      " 4   Employment              23435 non-null  object \n",
      " 5   RemoteWork              23427 non-null  object \n",
      " 6   OrgSize                 23410 non-null  object \n",
      " 7   DevType                 23403 non-null  object \n",
      " 8   LanguageHaveWorkedWith  23352 non-null  object \n",
      "dtypes: float64(2), object(7)\n",
      "memory usage: 1.8+ MB\n"
     ]
    }
   ],
   "source": [
    "df.info()"
   ]
  },
  {
   "cell_type": "code",
   "execution_count": 13,
   "id": "55348ace",
   "metadata": {},
   "outputs": [],
   "source": [
    "## Handling Education level\n",
    "df.loc[df['EdLevel'].str.contains('Bachelor', na=False), 'EdLevel'] = 'Bachelors'\n",
    "df.loc[df['EdLevel'].str.contains('Master', na=False), 'EdLevel'] = 'Master'\n",
    "df.loc[df['EdLevel'].str.contains('Professional', na=False), 'EdLevel'] = 'Professional'\n",
    "df.loc[df['EdLevel'].str.contains('Doctoral', na=False), 'EdLevel'] = 'PhD'\n",
    "df.loc[~df['EdLevel'].isin(['Bachelors', 'Masters', 'Professional', 'PhD']), 'EdLevel'] = 'Other'"
   ]
  },
  {
   "cell_type": "code",
   "execution_count": 14,
   "id": "36043315",
   "metadata": {},
   "outputs": [],
   "source": [
    "## Group Countries\n",
    "top_countries = df['Country'].value_counts().nlargest(15).index\n",
    "df.loc[~df['Country'].isin(top_countries), 'Country'] = 'Other'"
   ]
  },
  {
   "cell_type": "code",
   "execution_count": 15,
   "id": "5f7ae354",
   "metadata": {},
   "outputs": [],
   "source": [
    "## Handling Employement\n",
    "df.loc[:, 'Employment'] = df['Employment'].fillna('Other')"
   ]
  },
  {
   "cell_type": "code",
   "execution_count": 16,
   "id": "f88ed405",
   "metadata": {},
   "outputs": [
    {
     "name": "stdout",
     "output_type": "stream",
     "text": [
      "<class 'pandas.core.frame.DataFrame'>\n",
      "Index: 23435 entries, 72 to 41187\n",
      "Data columns (total 9 columns):\n",
      " #   Column                  Non-Null Count  Dtype  \n",
      "---  ------                  --------------  -----  \n",
      " 0   ConvertedCompYearly     23435 non-null  float64\n",
      " 1   Country                 23435 non-null  object \n",
      " 2   EdLevel                 23435 non-null  object \n",
      " 3   YearsCodePro            23345 non-null  float64\n",
      " 4   Employment              23435 non-null  object \n",
      " 5   RemoteWork              23427 non-null  object \n",
      " 6   OrgSize                 23410 non-null  object \n",
      " 7   DevType                 23403 non-null  object \n",
      " 8   LanguageHaveWorkedWith  23352 non-null  object \n",
      "dtypes: float64(2), object(7)\n",
      "memory usage: 1.8+ MB\n"
     ]
    }
   ],
   "source": [
    "df.info()"
   ]
  },
  {
   "cell_type": "code",
   "execution_count": 17,
   "id": "219017ec",
   "metadata": {},
   "outputs": [],
   "source": [
    "df = pd.get_dummies(df, columns=['Country', 'EdLevel', 'Employment'], drop_first=True)"
   ]
  },
  {
   "cell_type": "code",
   "execution_count": 18,
   "id": "b00529be",
   "metadata": {},
   "outputs": [],
   "source": [
    "df['RemoteWork'] = df['RemoteWork'].fillna('Other')\n",
    "df['OrgSize'] = df['OrgSize'].fillna('Other')\n",
    "\n",
    "df = pd.get_dummies(df, columns=['RemoteWork', 'OrgSize'], drop_first=True)"
   ]
  },
  {
   "cell_type": "code",
   "execution_count": 19,
   "id": "bb277a17",
   "metadata": {},
   "outputs": [],
   "source": [
    "df.drop(columns=['DevType', 'LanguageHaveWorkedWith'], inplace=True)"
   ]
  },
  {
   "cell_type": "code",
   "execution_count": 20,
   "id": "1f306d37",
   "metadata": {},
   "outputs": [
    {
     "name": "stdout",
     "output_type": "stream",
     "text": [
      "<class 'pandas.core.frame.DataFrame'>\n",
      "Index: 23435 entries, 72 to 41187\n",
      "Data columns (total 86 columns):\n",
      " #   Column                                                                                                                                                                                                                           Non-Null Count  Dtype  \n",
      "---  ------                                                                                                                                                                                                                           --------------  -----  \n",
      " 0   ConvertedCompYearly                                                                                                                                                                                                              23435 non-null  float64\n",
      " 1   YearsCodePro                                                                                                                                                                                                                     23345 non-null  float64\n",
      " 2   Country_Brazil                                                                                                                                                                                                                   23435 non-null  bool   \n",
      " 3   Country_Canada                                                                                                                                                                                                                   23435 non-null  bool   \n",
      " 4   Country_France                                                                                                                                                                                                                   23435 non-null  bool   \n",
      " 5   Country_Germany                                                                                                                                                                                                                  23435 non-null  bool   \n",
      " 6   Country_India                                                                                                                                                                                                                    23435 non-null  bool   \n",
      " 7   Country_Italy                                                                                                                                                                                                                    23435 non-null  bool   \n",
      " 8   Country_Netherlands                                                                                                                                                                                                              23435 non-null  bool   \n",
      " 9   Country_Other                                                                                                                                                                                                                    23435 non-null  bool   \n",
      " 10  Country_Poland                                                                                                                                                                                                                   23435 non-null  bool   \n",
      " 11  Country_Spain                                                                                                                                                                                                                    23435 non-null  bool   \n",
      " 12  Country_Sweden                                                                                                                                                                                                                   23435 non-null  bool   \n",
      " 13  Country_Switzerland                                                                                                                                                                                                              23435 non-null  bool   \n",
      " 14  Country_Ukraine                                                                                                                                                                                                                  23435 non-null  bool   \n",
      " 15  Country_United Kingdom of Great Britain and Northern Ireland                                                                                                                                                                     23435 non-null  bool   \n",
      " 16  Country_United States of America                                                                                                                                                                                                 23435 non-null  bool   \n",
      " 17  EdLevel_Other                                                                                                                                                                                                                    23435 non-null  bool   \n",
      " 18  EdLevel_Professional                                                                                                                                                                                                             23435 non-null  bool   \n",
      " 19  Employment_Employed, full-time;Employed, part-time                                                                                                                                                                               23435 non-null  bool   \n",
      " 20  Employment_Employed, full-time;Independent contractor, freelancer, or self-employed                                                                                                                                              23435 non-null  bool   \n",
      " 21  Employment_Employed, full-time;Independent contractor, freelancer, or self-employed;Employed, part-time                                                                                                                          23435 non-null  bool   \n",
      " 22  Employment_Employed, full-time;Independent contractor, freelancer, or self-employed;Not employed, and not looking for work                                                                                                       23435 non-null  bool   \n",
      " 23  Employment_Employed, full-time;Independent contractor, freelancer, or self-employed;Student, part-time                                                                                                                           23435 non-null  bool   \n",
      " 24  Employment_Employed, full-time;Independent contractor, freelancer, or self-employed;Student, part-time;Employed, part-time                                                                                                       23435 non-null  bool   \n",
      " 25  Employment_Employed, full-time;Independent contractor, freelancer, or self-employed;Student, part-time;Retired                                                                                                                   23435 non-null  bool   \n",
      " 26  Employment_Employed, full-time;Not employed, and not looking for work                                                                                                                                                            23435 non-null  bool   \n",
      " 27  Employment_Employed, full-time;Not employed, but looking for work                                                                                                                                                                23435 non-null  bool   \n",
      " 28  Employment_Employed, full-time;Not employed, but looking for work;Employed, part-time                                                                                                                                            23435 non-null  bool   \n",
      " 29  Employment_Employed, full-time;Not employed, but looking for work;Independent contractor, freelancer, or self-employed                                                                                                           23435 non-null  bool   \n",
      " 30  Employment_Employed, full-time;Not employed, but looking for work;Independent contractor, freelancer, or self-employed;Employed, part-time                                                                                       23435 non-null  bool   \n",
      " 31  Employment_Employed, full-time;Not employed, but looking for work;Not employed, and not looking for work;Employed, part-time                                                                                                     23435 non-null  bool   \n",
      " 32  Employment_Employed, full-time;Retired                                                                                                                                                                                           23435 non-null  bool   \n",
      " 33  Employment_Employed, full-time;Student, full-time                                                                                                                                                                                23435 non-null  bool   \n",
      " 34  Employment_Employed, full-time;Student, full-time;Employed, part-time                                                                                                                                                            23435 non-null  bool   \n",
      " 35  Employment_Employed, full-time;Student, full-time;Independent contractor, freelancer, or self-employed                                                                                                                           23435 non-null  bool   \n",
      " 36  Employment_Employed, full-time;Student, full-time;Independent contractor, freelancer, or self-employed;Employed, part-time                                                                                                       23435 non-null  bool   \n",
      " 37  Employment_Employed, full-time;Student, full-time;Not employed, but looking for work                                                                                                                                             23435 non-null  bool   \n",
      " 38  Employment_Employed, full-time;Student, full-time;Not employed, but looking for work;Independent contractor, freelancer, or self-employed;Not employed, and not looking for work;Student, part-time;Employed, part-time;Retired  23435 non-null  bool   \n",
      " 39  Employment_Employed, full-time;Student, full-time;Not employed, but looking for work;Independent contractor, freelancer, or self-employed;Student, part-time;Employed, part-time                                                 23435 non-null  bool   \n",
      " 40  Employment_Employed, full-time;Student, full-time;Student, part-time                                                                                                                                                             23435 non-null  bool   \n",
      " 41  Employment_Employed, full-time;Student, full-time;Student, part-time;Employed, part-time                                                                                                                                         23435 non-null  bool   \n",
      " 42  Employment_Employed, full-time;Student, part-time                                                                                                                                                                                23435 non-null  bool   \n",
      " 43  Employment_Employed, full-time;Student, part-time;Employed, part-time                                                                                                                                                            23435 non-null  bool   \n",
      " 44  Employment_Employed, part-time                                                                                                                                                                                                   23435 non-null  bool   \n",
      " 45  Employment_Employed, part-time;Retired                                                                                                                                                                                           23435 non-null  bool   \n",
      " 46  Employment_Independent contractor, freelancer, or self-employed                                                                                                                                                                  23435 non-null  bool   \n",
      " 47  Employment_Independent contractor, freelancer, or self-employed;Employed, part-time                                                                                                                                              23435 non-null  bool   \n",
      " 48  Employment_Independent contractor, freelancer, or self-employed;Employed, part-time;Retired                                                                                                                                      23435 non-null  bool   \n",
      " 49  Employment_Independent contractor, freelancer, or self-employed;Not employed, and not looking for work                                                                                                                           23435 non-null  bool   \n",
      " 50  Employment_Independent contractor, freelancer, or self-employed;Not employed, and not looking for work;Retired                                                                                                                   23435 non-null  bool   \n",
      " 51  Employment_Independent contractor, freelancer, or self-employed;Not employed, and not looking for work;Student, part-time                                                                                                        23435 non-null  bool   \n",
      " 52  Employment_Independent contractor, freelancer, or self-employed;Retired                                                                                                                                                          23435 non-null  bool   \n",
      " 53  Employment_Independent contractor, freelancer, or self-employed;Student, part-time                                                                                                                                               23435 non-null  bool   \n",
      " 54  Employment_Independent contractor, freelancer, or self-employed;Student, part-time;Employed, part-time                                                                                                                           23435 non-null  bool   \n",
      " 55  Employment_Not employed, but looking for work                                                                                                                                                                                    23435 non-null  bool   \n",
      " 56  Employment_Not employed, but looking for work;Employed, part-time                                                                                                                                                                23435 non-null  bool   \n",
      " 57  Employment_Not employed, but looking for work;Independent contractor, freelancer, or self-employed                                                                                                                               23435 non-null  bool   \n",
      " 58  Employment_Not employed, but looking for work;Independent contractor, freelancer, or self-employed;Employed, part-time                                                                                                           23435 non-null  bool   \n",
      " 59  Employment_Not employed, but looking for work;Independent contractor, freelancer, or self-employed;Not employed, and not looking for work                                                                                        23435 non-null  bool   \n",
      " 60  Employment_Not employed, but looking for work;Independent contractor, freelancer, or self-employed;Retired                                                                                                                       23435 non-null  bool   \n",
      " 61  Employment_Not employed, but looking for work;Independent contractor, freelancer, or self-employed;Student, part-time                                                                                                            23435 non-null  bool   \n",
      " 62  Employment_Not employed, but looking for work;Independent contractor, freelancer, or self-employed;Student, part-time;Employed, part-time                                                                                        23435 non-null  bool   \n",
      " 63  Employment_Not employed, but looking for work;Student, part-time;Employed, part-time                                                                                                                                             23435 non-null  bool   \n",
      " 64  Employment_Retired                                                                                                                                                                                                               23435 non-null  bool   \n",
      " 65  Employment_Student, full-time;Employed, part-time                                                                                                                                                                                23435 non-null  bool   \n",
      " 66  Employment_Student, full-time;Independent contractor, freelancer, or self-employed                                                                                                                                               23435 non-null  bool   \n",
      " 67  Employment_Student, full-time;Independent contractor, freelancer, or self-employed;Employed, part-time                                                                                                                           23435 non-null  bool   \n",
      " 68  Employment_Student, full-time;Independent contractor, freelancer, or self-employed;Not employed, and not looking for work                                                                                                        23435 non-null  bool   \n",
      " 69  Employment_Student, full-time;Independent contractor, freelancer, or self-employed;Student, part-time;Employed, part-time                                                                                                        23435 non-null  bool   \n",
      " 70  Employment_Student, full-time;Not employed, but looking for work;Employed, part-time                                                                                                                                             23435 non-null  bool   \n",
      " 71  Employment_Student, full-time;Not employed, but looking for work;Independent contractor, freelancer, or self-employed                                                                                                            23435 non-null  bool   \n",
      " 72  Employment_Student, part-time;Employed, part-time                                                                                                                                                                                23435 non-null  bool   \n",
      " 73  RemoteWork_In-person                                                                                                                                                                                                             23435 non-null  bool   \n",
      " 74  RemoteWork_Other                                                                                                                                                                                                                 23435 non-null  bool   \n",
      " 75  RemoteWork_Remote                                                                                                                                                                                                                23435 non-null  bool   \n",
      " 76  OrgSize_10 to 19 employees                                                                                                                                                                                                       23435 non-null  bool   \n",
      " 77  OrgSize_10,000 or more employees                                                                                                                                                                                                 23435 non-null  bool   \n",
      " 78  OrgSize_100 to 499 employees                                                                                                                                                                                                     23435 non-null  bool   \n",
      " 79  OrgSize_2 to 9 employees                                                                                                                                                                                                         23435 non-null  bool   \n",
      " 80  OrgSize_20 to 99 employees                                                                                                                                                                                                       23435 non-null  bool   \n",
      " 81  OrgSize_5,000 to 9,999 employees                                                                                                                                                                                                 23435 non-null  bool   \n",
      " 82  OrgSize_500 to 999 employees                                                                                                                                                                                                     23435 non-null  bool   \n",
      " 83  OrgSize_I don’t know                                                                                                                                                                                                             23435 non-null  bool   \n",
      " 84  OrgSize_Just me - I am a freelancer, sole proprietor, etc.                                                                                                                                                                       23435 non-null  bool   \n",
      " 85  OrgSize_Other                                                                                                                                                                                                                    23435 non-null  bool   \n",
      "dtypes: bool(84), float64(2)\n",
      "memory usage: 2.4 MB\n"
     ]
    }
   ],
   "source": [
    "df.info()"
   ]
  },
  {
   "cell_type": "code",
   "execution_count": 21,
   "id": "fbc98559",
   "metadata": {},
   "outputs": [],
   "source": [
    "df.dropna(inplace=True)"
   ]
  },
  {
   "cell_type": "code",
   "execution_count": 22,
   "id": "eeff4d30",
   "metadata": {},
   "outputs": [
    {
     "name": "stdout",
     "output_type": "stream",
     "text": [
      "(23345, 86)\n"
     ]
    }
   ],
   "source": [
    "print(df.shape)"
   ]
  },
  {
   "cell_type": "markdown",
   "id": "441146e2",
   "metadata": {},
   "source": [
    "### Model Training"
   ]
  },
  {
   "cell_type": "code",
   "execution_count": 23,
   "id": "6de24ec7",
   "metadata": {},
   "outputs": [],
   "source": [
    "## Dependent and Independent Features\n",
    "X = df.drop(columns=['ConvertedCompYearly'])\n",
    "y = df['ConvertedCompYearly']"
   ]
  },
  {
   "cell_type": "code",
   "execution_count": 24,
   "id": "b82e9dde",
   "metadata": {},
   "outputs": [
    {
     "name": "stdout",
     "output_type": "stream",
     "text": [
      "R²: 0.16911329912706585\n",
      "MAE: 39571.348065942344\n"
     ]
    }
   ],
   "source": [
    "## Linear Regression\n",
    "from sklearn.model_selection import train_test_split\n",
    "from sklearn.linear_model import LinearRegression\n",
    "from sklearn.preprocessing import StandardScaler\n",
    "from sklearn.metrics import r2_score, mean_absolute_error\n",
    "\n",
    "X_train, X_test, y_train, y_test = train_test_split(X, y, test_size=0.2, random_state=42)\n",
    "\n",
    "reg_model = LinearRegression()\n",
    "reg_model.fit(X_train,y_train)\n",
    "\n",
    "y_pred = reg_model.predict(X_test)\n",
    "print(\"R²:\", r2_score(y_test, y_pred))\n",
    "print(\"MAE:\", mean_absolute_error(y_test, y_pred))"
   ]
  },
  {
   "cell_type": "code",
   "execution_count": 25,
   "id": "9608b9ad",
   "metadata": {},
   "outputs": [
    {
     "name": "stdout",
     "output_type": "stream",
     "text": [
      "R²: -8.958994621351587e+22\n",
      "MAE: 1212211497700425.5\n",
      "Using Polynomial Model is bad because salary doesn't depend on exp or years\n"
     ]
    }
   ],
   "source": [
    "## Polynomial Regression\n",
    "from sklearn.preprocessing import StandardScaler, PolynomialFeatures\n",
    "from sklearn.linear_model import LinearRegression\n",
    "from sklearn.metrics import mean_absolute_error, r2_score\n",
    "from sklearn.model_selection import train_test_split\n",
    "\n",
    "X_train, X_test, y_train, y_test = train_test_split(X, y, test_size=0.2, random_state=42)\n",
    "\n",
    "scaler = StandardScaler()\n",
    "X_train_scaled = scaler.fit_transform(X_train)\n",
    "X_test_scaled = scaler.transform(X_test)\n",
    "\n",
    "poly = PolynomialFeatures(degree=2, include_bias=False)\n",
    "X_train_poly = poly.fit_transform(X_train_scaled)\n",
    "X_test_poly = poly.transform(X_test_scaled)\n",
    "\n",
    "model = LinearRegression()\n",
    "model.fit(X_train_poly, y_train)\n",
    "\n",
    "y_pred = model.predict(X_test_poly)\n",
    "print(\"R²:\", r2_score(y_test, y_pred))\n",
    "print(\"MAE:\", mean_absolute_error(y_test, y_pred))\n",
    "\n",
    "print(\"Using Polynomial Model is bad because salary doesn't depend on exp or years\")\n"
   ]
  },
  {
   "cell_type": "code",
   "execution_count": 32,
   "id": "d65a7d1e",
   "metadata": {},
   "outputs": [],
   "source": [
    "import os\n",
    "import pickle\n",
    "\n",
    "os.makedirs('Models', exist_ok=True)\n",
    "\n",
    "with open('Models/reg_model.pkl', 'wb') as f:\n",
    "    pickle.dump(reg_model, f)"
   ]
  },
  {
   "cell_type": "code",
   "execution_count": 33,
   "id": "6f3e0593",
   "metadata": {},
   "outputs": [
    {
     "data": {
      "text/plain": [
       "['YearsCodePro',\n",
       " 'Country_Brazil',\n",
       " 'Country_Canada',\n",
       " 'Country_France',\n",
       " 'Country_Germany',\n",
       " 'Country_India',\n",
       " 'Country_Italy',\n",
       " 'Country_Netherlands',\n",
       " 'Country_Other',\n",
       " 'Country_Poland',\n",
       " 'Country_Spain',\n",
       " 'Country_Sweden',\n",
       " 'Country_Switzerland',\n",
       " 'Country_Ukraine',\n",
       " 'Country_United Kingdom of Great Britain and Northern Ireland',\n",
       " 'Country_United States of America',\n",
       " 'EdLevel_Other',\n",
       " 'EdLevel_Professional',\n",
       " 'Employment_Employed, full-time;Employed, part-time',\n",
       " 'Employment_Employed, full-time;Independent contractor, freelancer, or self-employed',\n",
       " 'Employment_Employed, full-time;Independent contractor, freelancer, or self-employed;Employed, part-time',\n",
       " 'Employment_Employed, full-time;Independent contractor, freelancer, or self-employed;Not employed, and not looking for work',\n",
       " 'Employment_Employed, full-time;Independent contractor, freelancer, or self-employed;Student, part-time',\n",
       " 'Employment_Employed, full-time;Independent contractor, freelancer, or self-employed;Student, part-time;Employed, part-time',\n",
       " 'Employment_Employed, full-time;Independent contractor, freelancer, or self-employed;Student, part-time;Retired',\n",
       " 'Employment_Employed, full-time;Not employed, and not looking for work',\n",
       " 'Employment_Employed, full-time;Not employed, but looking for work',\n",
       " 'Employment_Employed, full-time;Not employed, but looking for work;Employed, part-time',\n",
       " 'Employment_Employed, full-time;Not employed, but looking for work;Independent contractor, freelancer, or self-employed',\n",
       " 'Employment_Employed, full-time;Not employed, but looking for work;Independent contractor, freelancer, or self-employed;Employed, part-time',\n",
       " 'Employment_Employed, full-time;Not employed, but looking for work;Not employed, and not looking for work;Employed, part-time',\n",
       " 'Employment_Employed, full-time;Retired',\n",
       " 'Employment_Employed, full-time;Student, full-time',\n",
       " 'Employment_Employed, full-time;Student, full-time;Employed, part-time',\n",
       " 'Employment_Employed, full-time;Student, full-time;Independent contractor, freelancer, or self-employed',\n",
       " 'Employment_Employed, full-time;Student, full-time;Independent contractor, freelancer, or self-employed;Employed, part-time',\n",
       " 'Employment_Employed, full-time;Student, full-time;Not employed, but looking for work',\n",
       " 'Employment_Employed, full-time;Student, full-time;Not employed, but looking for work;Independent contractor, freelancer, or self-employed;Not employed, and not looking for work;Student, part-time;Employed, part-time;Retired',\n",
       " 'Employment_Employed, full-time;Student, full-time;Not employed, but looking for work;Independent contractor, freelancer, or self-employed;Student, part-time;Employed, part-time',\n",
       " 'Employment_Employed, full-time;Student, full-time;Student, part-time',\n",
       " 'Employment_Employed, full-time;Student, full-time;Student, part-time;Employed, part-time',\n",
       " 'Employment_Employed, full-time;Student, part-time',\n",
       " 'Employment_Employed, full-time;Student, part-time;Employed, part-time',\n",
       " 'Employment_Employed, part-time',\n",
       " 'Employment_Employed, part-time;Retired',\n",
       " 'Employment_Independent contractor, freelancer, or self-employed',\n",
       " 'Employment_Independent contractor, freelancer, or self-employed;Employed, part-time',\n",
       " 'Employment_Independent contractor, freelancer, or self-employed;Employed, part-time;Retired',\n",
       " 'Employment_Independent contractor, freelancer, or self-employed;Not employed, and not looking for work',\n",
       " 'Employment_Independent contractor, freelancer, or self-employed;Not employed, and not looking for work;Retired',\n",
       " 'Employment_Independent contractor, freelancer, or self-employed;Not employed, and not looking for work;Student, part-time',\n",
       " 'Employment_Independent contractor, freelancer, or self-employed;Retired',\n",
       " 'Employment_Independent contractor, freelancer, or self-employed;Student, part-time',\n",
       " 'Employment_Independent contractor, freelancer, or self-employed;Student, part-time;Employed, part-time',\n",
       " 'Employment_Not employed, but looking for work',\n",
       " 'Employment_Not employed, but looking for work;Employed, part-time',\n",
       " 'Employment_Not employed, but looking for work;Independent contractor, freelancer, or self-employed',\n",
       " 'Employment_Not employed, but looking for work;Independent contractor, freelancer, or self-employed;Employed, part-time',\n",
       " 'Employment_Not employed, but looking for work;Independent contractor, freelancer, or self-employed;Not employed, and not looking for work',\n",
       " 'Employment_Not employed, but looking for work;Independent contractor, freelancer, or self-employed;Retired',\n",
       " 'Employment_Not employed, but looking for work;Independent contractor, freelancer, or self-employed;Student, part-time',\n",
       " 'Employment_Not employed, but looking for work;Independent contractor, freelancer, or self-employed;Student, part-time;Employed, part-time',\n",
       " 'Employment_Not employed, but looking for work;Student, part-time;Employed, part-time',\n",
       " 'Employment_Retired',\n",
       " 'Employment_Student, full-time;Employed, part-time',\n",
       " 'Employment_Student, full-time;Independent contractor, freelancer, or self-employed',\n",
       " 'Employment_Student, full-time;Independent contractor, freelancer, or self-employed;Employed, part-time',\n",
       " 'Employment_Student, full-time;Independent contractor, freelancer, or self-employed;Not employed, and not looking for work',\n",
       " 'Employment_Student, full-time;Independent contractor, freelancer, or self-employed;Student, part-time;Employed, part-time',\n",
       " 'Employment_Student, full-time;Not employed, but looking for work;Employed, part-time',\n",
       " 'Employment_Student, full-time;Not employed, but looking for work;Independent contractor, freelancer, or self-employed',\n",
       " 'Employment_Student, part-time;Employed, part-time',\n",
       " 'RemoteWork_In-person',\n",
       " 'RemoteWork_Other',\n",
       " 'RemoteWork_Remote',\n",
       " 'OrgSize_10 to 19 employees',\n",
       " 'OrgSize_10,000 or more employees',\n",
       " 'OrgSize_100 to 499 employees',\n",
       " 'OrgSize_2 to 9 employees',\n",
       " 'OrgSize_20 to 99 employees',\n",
       " 'OrgSize_5,000 to 9,999 employees',\n",
       " 'OrgSize_500 to 999 employees',\n",
       " 'OrgSize_I don’t know',\n",
       " 'OrgSize_Just me - I am a freelancer, sole proprietor, etc.',\n",
       " 'OrgSize_Other']"
      ]
     },
     "execution_count": 33,
     "metadata": {},
     "output_type": "execute_result"
    }
   ],
   "source": [
    "X.columns.tolist()"
   ]
  },
  {
   "cell_type": "code",
   "execution_count": null,
   "id": "89a826ec",
   "metadata": {},
   "outputs": [],
   "source": []
  },
  {
   "cell_type": "code",
   "execution_count": null,
   "id": "fdb68dd1",
   "metadata": {},
   "outputs": [],
   "source": []
  },
  {
   "cell_type": "markdown",
   "id": "3f3632e7",
   "metadata": {},
   "source": []
  }
 ],
 "metadata": {
  "kernelspec": {
   "display_name": "base",
   "language": "python",
   "name": "python3"
  },
  "language_info": {
   "codemirror_mode": {
    "name": "ipython",
    "version": 3
   },
   "file_extension": ".py",
   "mimetype": "text/x-python",
   "name": "python",
   "nbconvert_exporter": "python",
   "pygments_lexer": "ipython3",
   "version": "3.12.7"
  }
 },
 "nbformat": 4,
 "nbformat_minor": 5
}
